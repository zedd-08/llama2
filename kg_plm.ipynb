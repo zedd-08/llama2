{
 "cells": [
  {
   "cell_type": "code",
   "execution_count": 6,
   "metadata": {},
   "outputs": [
    {
     "name": "stderr",
     "output_type": "stream",
     "text": [
      "Found cached dataset json (/home/manish/.cache/huggingface/datasets/OGB___json/OGB--ogbg-molhiv-84342e5c2b1dba71/0.0.0/8bb11242116d547c741b2e8a1f18598ffdd40a1d4f2a2872c7a28b697434bc96)\n"
     ]
    },
    {
     "data": {
      "application/vnd.jupyter.widget-view+json": {
       "model_id": "23e9acd4df3941ddb34f1b1c21f8a82d",
       "version_major": 2,
       "version_minor": 0
      },
      "text/plain": [
       "  0%|          | 0/3 [00:00<?, ?it/s]"
      ]
     },
     "metadata": {},
     "output_type": "display_data"
    },
    {
     "name": "stderr",
     "output_type": "stream",
     "text": [
      "Loading cached shuffled indices for dataset at /home/manish/.cache/huggingface/datasets/OGB___json/OGB--ogbg-molhiv-84342e5c2b1dba71/0.0.0/8bb11242116d547c741b2e8a1f18598ffdd40a1d4f2a2872c7a28b697434bc96/cache-1688f3a3aa9acbbd.arrow\n",
      "Loading cached shuffled indices for dataset at /home/manish/.cache/huggingface/datasets/OGB___json/OGB--ogbg-molhiv-84342e5c2b1dba71/0.0.0/8bb11242116d547c741b2e8a1f18598ffdd40a1d4f2a2872c7a28b697434bc96/cache-b117291977bf1456.arrow\n",
      "Loading cached shuffled indices for dataset at /home/manish/.cache/huggingface/datasets/OGB___json/OGB--ogbg-molhiv-84342e5c2b1dba71/0.0.0/8bb11242116d547c741b2e8a1f18598ffdd40a1d4f2a2872c7a28b697434bc96/cache-f08fb17f8a35b3d7.arrow\n"
     ]
    }
   ],
   "source": [
    "from datasets import load_dataset\n",
    "\n",
    "# There is only one split on the hub\n",
    "dataset = load_dataset(\"OGB/ogbg-molhiv\")\n",
    "\n",
    "dataset = dataset.shuffle(seed=0)\n"
   ]
  },
  {
   "cell_type": "code",
   "execution_count": 113,
   "metadata": {},
   "outputs": [
    {
     "data": {
      "image/png": "[encoded data removed]",
      "text/plain": [
       "<Figure size 640x480 with 1 Axes>"
      ]
     },
     "metadata": {},
     "output_type": "display_data"
    }
   ],
   "source": [
    "import networkx as nx\n",
    "import matplotlib.pyplot as plt\n",
    "\n",
    "# We want to plot the first train graph\n",
    "graph = dataset[\"train\"][0]\n",
    "\n",
    "edges = graph[\"edge_index\"]\n",
    "num_edges = len(edges[0])\n",
    "num_nodes = graph[\"num_nodes\"]\n",
    "\n",
    "# Conversion to networkx format\n",
    "G = nx.Graph()\n",
    "G.add_nodes_from(range(num_nodes))\n",
    "G.add_edges_from([(edges[0][i], edges[1][i]) for i in range(num_edges)])\n",
    "\n",
    "# Plot\n",
    "nx.draw(G)\n"
   ]
  },
  {
   "cell_type": "code",
   "execution_count": 129,
   "metadata": {},
   "outputs": [
    {
     "name": "stdout",
     "output_type": "stream",
     "text": [
      "dict_keys(['edge_index', 'edge_attr', 'y', 'num_nodes', 'node_feat'])\n"
     ]
    }
   ],
   "source": [
    "print(graph.keys())"
   ]
  },
  {
   "cell_type": "code",
   "execution_count": 152,
   "metadata": {},
   "outputs": [],
   "source": [
    "my_g = nx.Graph()\n",
    "nodes = ['Korgan Bloodaxe', # 0\n",
    "         'a tomb over in the lower crypts of the Graveyard District', # 1\n",
    "         'Book of Kaza', # 2\n",
    "         'location', # 3\n",
    "         'character', # 4\n",
    "         'object'] # 5\n",
    "my_g.add_nodes_from(nodes)\n",
    "my_g.add_edges_from([(nodes[1], nodes[3]), (nodes[2], nodes[0]), (nodes[2], nodes[1]), (nodes[2], nodes[5])])\n",
    "my_g.add_edge(nodes[0], nodes[4], label='type of')"
   ]
  },
  {
   "cell_type": "code",
   "execution_count": 153,
   "metadata": {},
   "outputs": [
    {
     "name": "stdout",
     "output_type": "stream",
     "text": [
      "('Korgan Bloodaxe', {'Book of Kaza': {}, 'character': {'label': 'type of'}})\n",
      "('a tomb over in the lower crypts of the Graveyard District', {'location': {}, 'Book of Kaza': {}})\n",
      "('Book of Kaza', {'Korgan Bloodaxe': {}, 'a tomb over in the lower crypts of the Graveyard District': {}, 'object': {}})\n",
      "('location', {'a tomb over in the lower crypts of the Graveyard District': {}})\n",
      "('character', {'Korgan Bloodaxe': {'label': 'type of'}})\n",
      "('object', {'Book of Kaza': {}})\n"
     ]
    }
   ],
   "source": [
    "for i in my_g.adjacency():\n",
    "    print(i)"
   ]
  },
  {
   "cell_type": "code",
   "execution_count": 7,
   "metadata": {},
   "outputs": [
    {
     "name": "stderr",
     "output_type": "stream",
     "text": [
      "Loading cached processed dataset at /home/manish/.cache/huggingface/datasets/OGB___json/OGB--ogbg-molhiv-84342e5c2b1dba71/0.0.0/8bb11242116d547c741b2e8a1f18598ffdd40a1d4f2a2872c7a28b697434bc96/cache-49407c506b7c3edb.arrow\n"
     ]
    },
    {
     "name": "stderr",
     "output_type": "stream",
     "text": [
      "Loading cached processed dataset at /home/manish/.cache/huggingface/datasets/OGB___json/OGB--ogbg-molhiv-84342e5c2b1dba71/0.0.0/8bb11242116d547c741b2e8a1f18598ffdd40a1d4f2a2872c7a28b697434bc96/cache-121409022ee691f7.arrow\n",
      "Loading cached processed dataset at /home/manish/.cache/huggingface/datasets/OGB___json/OGB--ogbg-molhiv-84342e5c2b1dba71/0.0.0/8bb11242116d547c741b2e8a1f18598ffdd40a1d4f2a2872c7a28b697434bc96/cache-b34d0a7acd75a063.arrow\n"
     ]
    }
   ],
   "source": [
    "from transformers.models.graphormer.collating_graphormer import preprocess_item, GraphormerDataCollator\n",
    "\n",
    "dataset_processed = dataset.map(preprocess_item, batched=False)\n"
   ]
  },
  {
   "cell_type": "code",
   "execution_count": 48,
   "metadata": {},
   "outputs": [],
   "source": [
    "from transformers import GraphormerForGraphClassification\n",
    "\n",
    "graphormer_model = GraphormerForGraphClassification.from_pretrained(\n",
    "    \"clefourrier/pcqm4mv2_graphormer_base\",\n",
    "    num_classes=1, # num_classes for the downstream task \n",
    "    ignore_mismatched_sizes=True,\n",
    ")\n"
   ]
  },
  {
   "cell_type": "code",
   "execution_count": 49,
   "metadata": {},
   "outputs": [],
   "source": [
    "import torch\n",
    "\n",
    "class GATHead(torch.nn.Module):\n",
    "\n",
    "    def __init__(self, graphormerModel):\n",
    "        super(GATHead, self).__init__()\n",
    "\n",
    "        self.graph_encoder = graphormerModel.graph_encoder\n",
    "        self.lm_head_transform_weight = graphormerModel.lm_head_transform_weight\n",
    "\n",
    "    def forward(self, x):\n",
    "        x, graph_rep = self.graph_encoder(**x)\n",
    "        x = x[-1].transpose(0, 1)\n",
    "        x = self.lm_head_transform_weight(x)\n",
    "        return x\n",
    "\n",
    "graphormer_head = GATHead(graphormer_model.encoder)"
   ]
  },
  {
   "cell_type": "code",
   "execution_count": 50,
   "metadata": {},
   "outputs": [
    {
     "data": {
      "text/plain": [
       "GATHead(\n",
       "  (graph_encoder): GraphormerGraphEncoder(\n",
       "    (dropout_module): Dropout(p=0.0, inplace=False)\n",
       "    (graph_node_feature): GraphormerGraphNodeFeature(\n",
       "      (atom_encoder): Embedding(4609, 768, padding_idx=0)\n",
       "      (in_degree_encoder): Embedding(512, 768, padding_idx=0)\n",
       "      (out_degree_encoder): Embedding(512, 768, padding_idx=0)\n",
       "      (graph_token): Embedding(1, 768)\n",
       "    )\n",
       "    (graph_attn_bias): GraphormerGraphAttnBias(\n",
       "      (edge_encoder): Embedding(1537, 32, padding_idx=0)\n",
       "      (edge_dis_encoder): Embedding(131072, 1)\n",
       "      (spatial_pos_encoder): Embedding(512, 32, padding_idx=0)\n",
       "      (graph_token_virtual_distance): Embedding(1, 32)\n",
       "    )\n",
       "    (emb_layer_norm): LayerNorm((768,), eps=1e-05, elementwise_affine=True)\n",
       "    (layers): ModuleList(\n",
       "      (0-11): 12 x GraphormerGraphEncoderLayer(\n",
       "        (dropout_module): Dropout(p=0.0, inplace=False)\n",
       "        (activation_dropout_module): Dropout(p=0.1, inplace=False)\n",
       "        (activation_fn): GELUActivation()\n",
       "        (self_attn): GraphormerMultiheadAttention(\n",
       "          (attention_dropout_module): Dropout(p=0.1, inplace=False)\n",
       "          (k_proj): Linear(in_features=768, out_features=768, bias=True)\n",
       "          (v_proj): Linear(in_features=768, out_features=768, bias=True)\n",
       "          (q_proj): Linear(in_features=768, out_features=768, bias=True)\n",
       "          (out_proj): Linear(in_features=768, out_features=768, bias=True)\n",
       "        )\n",
       "        (self_attn_layer_norm): LayerNorm((768,), eps=1e-05, elementwise_affine=True)\n",
       "        (fc1): Linear(in_features=768, out_features=768, bias=True)\n",
       "        (fc2): Linear(in_features=768, out_features=768, bias=True)\n",
       "        (final_layer_norm): LayerNorm((768,), eps=1e-05, elementwise_affine=True)\n",
       "      )\n",
       "    )\n",
       "  )\n",
       "  (lm_head_transform_weight): Linear(in_features=768, out_features=768, bias=True)\n",
       ")"
      ]
     },
     "execution_count": 50,
     "metadata": {},
     "output_type": "execute_result"
    }
   ],
   "source": [
    "graphormer_head"
   ]
  },
  {
   "cell_type": "code",
   "execution_count": 51,
   "metadata": {},
   "outputs": [
    {
     "data": {
      "text/plain": [
       "dict_keys(['attn_bias', 'attn_edge_type', 'spatial_pos', 'in_degree', 'input_nodes', 'input_edges', 'out_degree', 'labels'])"
      ]
     },
     "execution_count": 51,
     "metadata": {},
     "output_type": "execute_result"
    }
   ],
   "source": [
    "collator = GraphormerDataCollator()\n",
    "graph_data = collator([dataset_processed['validation'][0]])\n",
    "graph_data.keys()"
   ]
  },
  {
   "cell_type": "code",
   "execution_count": 52,
   "metadata": {},
   "outputs": [
    {
     "name": "stdout",
     "output_type": "stream",
     "text": [
      "attn_bias \t torch.Size([1, 48, 48])\n",
      "attn_edge_type \t torch.Size([1, 47, 47, 3])\n",
      "spatial_pos \t torch.Size([1, 47, 47])\n",
      "in_degree \t torch.Size([1, 47])\n",
      "input_nodes \t torch.Size([1, 47, 9])\n",
      "input_edges \t torch.Size([1, 47, 47, 22, 3])\n",
      "out_degree \t torch.Size([1, 47])\n",
      "labels \t torch.Size([1])\n"
     ]
    }
   ],
   "source": [
    "for k,v in graph_data.items():\n",
    "    print(k, '\\t', v.shape)"
   ]
  },
  {
   "cell_type": "code",
   "execution_count": 53,
   "metadata": {},
   "outputs": [
    {
     "data": {
      "text/plain": [
       "tensor([0])"
      ]
     },
     "execution_count": 53,
     "metadata": {},
     "output_type": "execute_result"
    }
   ],
   "source": [
    "graph_data.pop('labels')\n",
    "# data.pop('attn_bias')"
   ]
  },
  {
   "cell_type": "code",
   "execution_count": 54,
   "metadata": {},
   "outputs": [
    {
     "name": "stdout",
     "output_type": "stream",
     "text": [
      "torch.Size([1, 48, 768])\n",
      "torch.Size([1, 48, 768])\n"
     ]
    }
   ],
   "source": [
    "out = graphormer_head(graph_data)"
   ]
  },
  {
   "cell_type": "code",
   "execution_count": 11,
   "metadata": {},
   "outputs": [],
   "source": [
    "import bitsandbytes as bnb\n",
    "from datasets import load_dataset\n",
    "from functools import partial\n",
    "from peft import LoraConfig, get_peft_model, prepare_model_for_kbit_training, AutoPeftModelForCausalLM\n",
    "import torch\n",
    "from transformers import AutoModelForCausalLM, AutoTokenizer, Trainer, TrainingArguments, BitsAndBytesConfig, DataCollatorForLanguageModeling, Trainer, TrainingArguments\n",
    "import networkx as nx"
   ]
  },
  {
   "cell_type": "code",
   "execution_count": 12,
   "metadata": {},
   "outputs": [],
   "source": [
    "import os\n",
    "\n",
    "base_dir = '/home/manish/thesis-implementations/quest_generation/llama2/'\n",
    "model_name = 'meta-llama/llama-2-7b-hf'\n",
    "model_dir = 'models'\n",
    "model_path = os.path.join(base_dir, model_dir, model_name)"
   ]
  },
  {
   "cell_type": "code",
   "execution_count": 13,
   "metadata": {},
   "outputs": [],
   "source": [
    "def load_tokenizer(model_name):\n",
    "    tokenizer = AutoTokenizer.from_pretrained(model_name)\n",
    "    # Needed for LLaMA tokenizer\n",
    "    tokenizer.pad_token = tokenizer.eos_token\n",
    "    \n",
    "    return tokenizer\n",
    "\n",
    "def load_model(model_name, bnb_config):\n",
    "    n_gpus = torch.cuda.device_count()\n",
    "    max_memory = f'{12288}MB'\n",
    "\n",
    "    model = AutoModelForCausalLM.from_pretrained(\n",
    "        model_name,\n",
    "        quantization_config=bnb_config,\n",
    "        use_cache=False,\n",
    "        device_map=\"auto\",\n",
    "        max_memory = {i: max_memory for i in range(n_gpus)},\n",
    "    )\n",
    "\n",
    "    return model, load_tokenizer(model_name)"
   ]
  },
  {
   "cell_type": "code",
   "execution_count": 14,
   "metadata": {},
   "outputs": [],
   "source": [
    "def create_bnb_config():\n",
    "    bnb_config = BitsAndBytesConfig(\n",
    "        load_in_4bit=True,\n",
    "        bnb_4bit_use_double_quant=True,\n",
    "        bnb_4bit_quant_type=\"nf4\",\n",
    "        bnb_4bit_compute_dtype=torch.bfloat16,\n",
    "    )\n",
    "\n",
    "    return bnb_config"
   ]
  },
  {
   "cell_type": "code",
   "execution_count": 55,
   "metadata": {},
   "outputs": [
    {
     "data": {
      "application/vnd.jupyter.widget-view+json": {
       "model_id": "e84839c43aae408a9a124dde49afe755",
       "version_major": 2,
       "version_minor": 0
      },
      "text/plain": [
       "Loading checkpoint shards:   0%|          | 0/2 [00:00<?, ?it/s]"
      ]
     },
     "metadata": {},
     "output_type": "display_data"
    }
   ],
   "source": [
    "# Load model from HF with user's token and with bitsandbytes config\n",
    "bnb_config = create_bnb_config()\n",
    "llama_model, llama_tokenizer = load_model(model_path, bnb_config)\n",
    "# tokenizer = load_tokenizer(model_path)"
   ]
  },
  {
   "cell_type": "code",
   "execution_count": 71,
   "metadata": {},
   "outputs": [],
   "source": [
    "# SOURCE https://github.com/databrickslabs/dolly/blob/master/training/trainer.py\n",
    "def get_max_length(model):\n",
    "    max_length = None\n",
    "    for length_setting in [\"n_positions\", \"max_position_embeddings\", \"seq_length\"]:\n",
    "        max_length = getattr(model.config, length_setting, None)\n",
    "        if max_length:\n",
    "            print(f\"Found max lenth: {max_length}\")\n",
    "            break\n",
    "    if not max_length:\n",
    "        max_length = 1024\n",
    "        print(f\"Using default max length: {max_length}\")\n",
    "    return max_length"
   ]
  },
  {
   "cell_type": "code",
   "execution_count": 72,
   "metadata": {},
   "outputs": [
    {
     "name": "stdout",
     "output_type": "stream",
     "text": [
      "Found max lenth: 4096\n"
     ]
    }
   ],
   "source": [
    "llama_max_length = get_max_length(llama_model)"
   ]
  },
  {
   "cell_type": "code",
   "execution_count": 67,
   "metadata": {},
   "outputs": [],
   "source": [
    "graph_out_len = list(graphormer_head.children())[-1].out_features\n",
    "llama_in_len = llama_model.config.hidden_size"
   ]
  },
  {
   "cell_type": "code",
   "execution_count": 74,
   "metadata": {},
   "outputs": [
    {
     "data": {
      "text/plain": [
       "tensor([0, 1, 0, 3])"
      ]
     },
     "execution_count": 74,
     "metadata": {},
     "output_type": "execute_result"
    }
   ],
   "source": [
    "torch.cat([torch.tensor([0, 1]), torch.tensor([0, 3])])"
   ]
  },
  {
   "cell_type": "code",
   "execution_count": 102,
   "metadata": {},
   "outputs": [],
   "source": [
    "import torch\n",
    "\n",
    "class KGLlama(torch.nn.Module):\n",
    "\n",
    "    def __init__(self, graphEncoder, max_graph_tokens, llama):\n",
    "        super(KGLlama, self).__init__()\n",
    "\n",
    "        self.GraphEncoder = graphEncoder\n",
    "        \n",
    "        graph_out_len = list(graphormer_head.children())[-1].out_features        \n",
    "        self.linear = torch.nn.Linear(graph_out_len, max_graph_tokens)\n",
    "        self.llama = llama\n",
    "        \n",
    "    def forward(self, tokenized_prompt, kg):\n",
    "        kg = self.GraphEncoder(kg)\n",
    "        kg = self.linear(kg)\n",
    "        # kg = torch.flatten(kg)\n",
    "        \n",
    "        # print(kg.size())\n",
    "        # print(str(kg))\n",
    "        \n",
    "        # x = self.llama(tokenized_prompt)\n",
    "        return kg\n",
    "\n",
    "kg_llama_model = KGLlama(graphormer_head, 32, llama_model)"
   ]
  },
  {
   "cell_type": "code",
   "execution_count": 84,
   "metadata": {},
   "outputs": [
    {
     "data": {
      "text/plain": [
       "KGLlama(\n",
       "  (GraphEncoder): GATHead(\n",
       "    (graph_encoder): GraphormerGraphEncoder(\n",
       "      (dropout_module): Dropout(p=0.0, inplace=False)\n",
       "      (graph_node_feature): GraphormerGraphNodeFeature(\n",
       "        (atom_encoder): Embedding(4609, 768, padding_idx=0)\n",
       "        (in_degree_encoder): Embedding(512, 768, padding_idx=0)\n",
       "        (out_degree_encoder): Embedding(512, 768, padding_idx=0)\n",
       "        (graph_token): Embedding(1, 768)\n",
       "      )\n",
       "      (graph_attn_bias): GraphormerGraphAttnBias(\n",
       "        (edge_encoder): Embedding(1537, 32, padding_idx=0)\n",
       "        (edge_dis_encoder): Embedding(131072, 1)\n",
       "        (spatial_pos_encoder): Embedding(512, 32, padding_idx=0)\n",
       "        (graph_token_virtual_distance): Embedding(1, 32)\n",
       "      )\n",
       "      (emb_layer_norm): LayerNorm((768,), eps=1e-05, elementwise_affine=True)\n",
       "      (layers): ModuleList(\n",
       "        (0-11): 12 x GraphormerGraphEncoderLayer(\n",
       "          (dropout_module): Dropout(p=0.0, inplace=False)\n",
       "          (activation_dropout_module): Dropout(p=0.1, inplace=False)\n",
       "          (activation_fn): GELUActivation()\n",
       "          (self_attn): GraphormerMultiheadAttention(\n",
       "            (attention_dropout_module): Dropout(p=0.1, inplace=False)\n",
       "            (k_proj): Linear(in_features=768, out_features=768, bias=True)\n",
       "            (v_proj): Linear(in_features=768, out_features=768, bias=True)\n",
       "            (q_proj): Linear(in_features=768, out_features=768, bias=True)\n",
       "            (out_proj): Linear(in_features=768, out_features=768, bias=True)\n",
       "          )\n",
       "          (self_attn_layer_norm): LayerNorm((768,), eps=1e-05, elementwise_affine=True)\n",
       "          (fc1): Linear(in_features=768, out_features=768, bias=True)\n",
       "          (fc2): Linear(in_features=768, out_features=768, bias=True)\n",
       "          (final_layer_norm): LayerNorm((768,), eps=1e-05, elementwise_affine=True)\n",
       "        )\n",
       "      )\n",
       "    )\n",
       "    (lm_head_transform_weight): Linear(in_features=768, out_features=768, bias=True)\n",
       "  )\n",
       "  (linear): Linear(in_features=768, out_features=128, bias=True)\n",
       "  (llama): LlamaForCausalLM(\n",
       "    (model): LlamaModel(\n",
       "      (embed_tokens): Embedding(32000, 4096)\n",
       "      (layers): ModuleList(\n",
       "        (0-31): 32 x LlamaDecoderLayer(\n",
       "          (self_attn): LlamaAttention(\n",
       "            (q_proj): Linear4bit(in_features=4096, out_features=4096, bias=False)\n",
       "            (k_proj): Linear4bit(in_features=4096, out_features=4096, bias=False)\n",
       "            (v_proj): Linear4bit(in_features=4096, out_features=4096, bias=False)\n",
       "            (o_proj): Linear4bit(in_features=4096, out_features=4096, bias=False)\n",
       "            (rotary_emb): LlamaRotaryEmbedding()\n",
       "          )\n",
       "          (mlp): LlamaMLP(\n",
       "            (gate_proj): Linear4bit(in_features=4096, out_features=11008, bias=False)\n",
       "            (up_proj): Linear4bit(in_features=4096, out_features=11008, bias=False)\n",
       "            (down_proj): Linear4bit(in_features=11008, out_features=4096, bias=False)\n",
       "            (act_fn): SiLUActivation()\n",
       "          )\n",
       "          (input_layernorm): LlamaRMSNorm()\n",
       "          (post_attention_layernorm): LlamaRMSNorm()\n",
       "        )\n",
       "      )\n",
       "      (norm): LlamaRMSNorm()\n",
       "    )\n",
       "    (lm_head): Linear(in_features=4096, out_features=32000, bias=False)\n",
       "  )\n",
       ")"
      ]
     },
     "execution_count": 84,
     "metadata": {},
     "output_type": "execute_result"
    }
   ],
   "source": [
    "kg_llama_model"
   ]
  },
  {
   "cell_type": "code",
   "execution_count": 91,
   "metadata": {},
   "outputs": [],
   "source": [
    "encoded_text = llama_tokenizer.encode('Hello world!', return_tensors='pt')"
   ]
  },
  {
   "cell_type": "code",
   "execution_count": 110,
   "metadata": {},
   "outputs": [
    {
     "data": {
      "text/plain": [
       "torch.Size([1, 48, 48])"
      ]
     },
     "execution_count": 110,
     "metadata": {},
     "output_type": "execute_result"
    }
   ],
   "source": [
    "graph_data['attn_bias'].shape"
   ]
  },
  {
   "cell_type": "code",
   "execution_count": 103,
   "metadata": {},
   "outputs": [
    {
     "name": "stdout",
     "output_type": "stream",
     "text": [
      "torch.Size([1, 48, 768])\n",
      "torch.Size([1, 48, 768])\n"
     ]
    }
   ],
   "source": [
    "out = kg_llama_model(encoded_text, graph_data)"
   ]
  },
  {
   "cell_type": "code",
   "execution_count": 107,
   "metadata": {},
   "outputs": [
    {
     "data": {
      "text/plain": [
       "torch.Size([1, 48, 32])"
      ]
     },
     "execution_count": 107,
     "metadata": {},
     "output_type": "execute_result"
    }
   ],
   "source": [
    "out.shape"
   ]
  },
  {
   "cell_type": "code",
   "execution_count": 105,
   "metadata": {},
   "outputs": [
    {
     "data": {
      "text/plain": [
       "torch.Size([1536])"
      ]
     },
     "execution_count": 105,
     "metadata": {},
     "output_type": "execute_result"
    }
   ],
   "source": [
    "torch.flatten(out).size()"
   ]
  },
  {
   "cell_type": "code",
   "execution_count": 61,
   "metadata": {},
   "outputs": [
    {
     "name": "stderr",
     "output_type": "stream",
     "text": [
      "/home/manish/miniconda3/envs/llama2/lib/python3.10/site-packages/transformers/generation/utils.py:1591: UserWarning: You are calling .generate() with the `input_ids` being on a device type different than your model's device. `input_ids` is on cpu, whereas the model is on cuda. You may experience unexpected behaviors or slower generation. Please make sure that you have put `input_ids` to the correct device by calling for example input_ids = input_ids.to('cuda') before running `.generate()`.\n",
      "  warnings.warn(\n"
     ]
    }
   ],
   "source": [
    "decode = kg_llama_model.llama.generate(encoded_text)"
   ]
  },
  {
   "cell_type": "code",
   "execution_count": 62,
   "metadata": {},
   "outputs": [
    {
     "data": {
      "text/plain": [
       "'<s> Hello world! Welcome to my new website. Hinweis: Der Artikel ist nicht mehr aktuell. Es gibt einen neuen Artikel über die Kategorie.\\nWelcome to my new website. Hinweis: Der Artikel ist nicht mehr aktuell. Es gibt einen neuen Artikel über die Kategorie.</s>'"
      ]
     },
     "execution_count": 62,
     "metadata": {},
     "output_type": "execute_result"
    }
   ],
   "source": [
    "llama_tokenizer.decode(decode[0])"
   ]
  }
 ],
 "metadata": {
  "kernelspec": {
   "display_name": "llama2",
   "language": "python",
   "name": "python3"
  },
  "language_info": {
   "codemirror_mode": {
    "name": "ipython",
    "version": 3
   },
   "file_extension": ".py",
   "mimetype": "text/x-python",
   "name": "python",
   "nbconvert_exporter": "python",
   "pygments_lexer": "ipython3",
   "version": "3.10.13"
  }
 },
 "nbformat": 4,
 "nbformat_minor": 2
}
